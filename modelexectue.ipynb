{
  "cells": [
    {
      "metadata": {
        "trusted": true
      },
      "cell_type": "code",
      "source": "!pip install opencv-python",
      "execution_count": 8,
      "outputs": [
        {
          "output_type": "stream",
          "text": "Collecting opencv-python\n\u001b[?25l  Downloading https://files.pythonhosted.org/packages/72/c2/e9cf54ae5b1102020ef895866a67cb2e1aef72f16dd1fde5b5fb1495ad9c/opencv_python-4.2.0.34-cp36-cp36m-manylinux1_x86_64.whl (28.2MB)\n\u001b[K     |████████████████████████████████| 28.2MB 125kB/s eta 0:00:01    |▉                               | 686kB 2.2MB/s eta 0:00:13     |███▏                            | 2.8MB 2.2MB/s eta 0:00:12     |██████████████████              | 15.8MB 7.5MB/s eta 0:00:02     |██████████████████████          | 19.4MB 7.5MB/s eta 0:00:02��█       | 22.0MB 7.5MB/s eta 0:00:01     |███████████████████████████▏    | 23.9MB 7.5MB/s eta 0:00:01��████▍   | 25.0MB 7.5MB/s eta 0:00:01     |██████████████████████████████▎ | 26.6MB 7.5MB/s eta 0:00:01\n\u001b[?25hRequirement already satisfied: numpy>=1.11.3 in /home/nbuser/anaconda3_501/lib/python3.6/site-packages (from opencv-python) (1.16.2)\nInstalling collected packages: opencv-python\nSuccessfully installed opencv-python-4.2.0.34\n\u001b[33mWARNING: You are using pip version 19.3.1; however, version 20.1 is available.\nYou should consider upgrading via the 'pip install --upgrade pip' command.\u001b[0m\n",
          "name": "stdout"
        }
      ]
    },
    {
      "metadata": {
        "trusted": true
      },
      "cell_type": "code",
      "source": "from keras.models import load_model\nimport cv2\nimport numpy as np\nimport os\nfrom keras.preprocessing import image",
      "execution_count": 55,
      "outputs": []
    },
    {
      "metadata": {
        "trusted": true
      },
      "cell_type": "code",
      "source": "",
      "execution_count": null,
      "outputs": []
    },
    {
      "metadata": {
        "trusted": true
      },
      "cell_type": "code",
      "source": "model = load_model('model.h5')\n\nmodel.compile(loss='binary_crossentropy',\n              optimizer='rmsprop',\n              metrics=['accuracy'])",
      "execution_count": 56,
      "outputs": []
    },
    {
      "metadata": {
        "trusted": true
      },
      "cell_type": "code",
      "source": "images = []\nfolder_path = 'test/normal'\nfor img in os.listdir(folder_path):\n    img = os.path.join(folder_path, img)\n    img = image.load_img(img, target_size=(150, 150))\n    img = image.img_to_array(img)\n    img = np.expand_dims(img, axis=0)\n    images.append(img)\n\n# stack up images list to pass for prediction\nimages = np.vstack(images)\nclasses = model.predict_classes(images, batch_size=10)",
      "execution_count": 64,
      "outputs": [
        {
          "output_type": "stream",
          "text": "[[0]\n [0]\n [0]\n [0]\n [0]\n [1]\n [0]\n [0]\n [0]\n [0]\n [0]\n [1]\n [0]\n [0]\n [0]\n [1]\n [1]\n [1]\n [0]\n [0]\n [0]\n [0]\n [0]\n [0]\n [0]\n [1]\n [0]\n [0]\n [1]\n [0]\n [0]\n [0]\n [1]\n [0]\n [0]\n [0]\n [1]\n [0]\n [1]\n [0]\n [0]\n [1]\n [0]\n [1]\n [0]\n [0]\n [0]\n [0]\n [0]\n [0]\n [0]\n [1]\n [0]\n [1]\n [0]\n [0]\n [1]\n [0]\n [0]\n [0]\n [1]\n [0]\n [0]\n [0]\n [1]\n [0]\n [0]\n [0]\n [0]\n [1]\n [1]\n [0]\n [0]\n [1]\n [1]\n [0]\n [1]\n [0]\n [0]\n [1]\n [1]\n [1]\n [1]\n [0]\n [0]\n [0]\n [1]\n [0]\n [0]\n [1]\n [0]\n [1]\n [0]\n [0]\n [1]\n [1]\n [1]\n [0]\n [1]\n [1]\n [0]\n [1]\n [1]\n [1]\n [0]\n [0]\n [1]\n [0]\n [0]\n [0]\n [0]\n [0]\n [0]\n [0]\n [0]\n [0]\n [0]\n [1]\n [1]\n [0]\n [0]\n [1]\n [1]\n [1]\n [1]\n [1]\n [0]\n [1]\n [1]\n [1]\n [1]\n [0]\n [0]\n [1]\n [1]\n [1]\n [0]\n [1]\n [0]\n [0]\n [1]\n [0]\n [0]\n [1]\n [1]\n [0]\n [0]\n [0]\n [0]\n [0]\n [1]\n [0]\n [0]\n [0]\n [0]\n [0]\n [0]\n [1]\n [1]\n [1]\n [0]\n [0]\n [1]\n [1]\n [1]\n [1]\n [0]\n [1]\n [0]\n [0]\n [1]\n [1]\n [1]\n [1]\n [0]\n [0]\n [1]\n [0]\n [0]\n [0]\n [1]\n [0]\n [1]\n [0]\n [0]\n [0]\n [0]\n [0]\n [0]\n [0]\n [0]\n [1]\n [1]\n [0]\n [0]\n [1]\n [0]\n [1]\n [0]\n [0]\n [0]\n [1]\n [1]\n [0]\n [1]\n [0]\n [0]\n [0]\n [0]\n [0]\n [1]\n [1]\n [0]\n [0]\n [0]\n [1]\n [0]\n [0]\n [0]\n [1]\n [1]\n [0]\n [1]\n [0]\n [0]\n [0]\n [0]\n [1]\n [0]\n [0]\n [0]\n [0]\n [0]\n [0]\n [1]\n [0]\n [1]\n [0]\n [0]\n [1]\n [0]\n [0]\n [0]\n [1]\n [0]\n [1]\n [0]\n [0]\n [0]\n [0]\n [0]\n [0]\n [0]\n [1]\n [0]\n [1]\n [0]\n [1]\n [0]\n [1]\n [0]\n [0]\n [0]\n [1]\n [0]\n [1]\n [0]\n [1]\n [1]\n [0]\n [1]\n [1]\n [1]\n [1]\n [0]\n [0]\n [0]\n [0]\n [0]\n [0]\n [1]\n [0]\n [0]\n [1]\n [1]\n [1]\n [0]\n [0]\n [0]\n [0]\n [1]\n [1]\n [0]\n [0]\n [1]\n [1]\n [0]\n [0]\n [0]\n [0]\n [0]\n [1]\n [0]\n [0]\n [0]\n [1]\n [1]\n [0]\n [1]\n [0]\n [0]\n [1]\n [0]\n [0]\n [1]\n [0]\n [1]\n [0]\n [0]\n [1]\n [1]\n [1]\n [0]\n [0]\n [1]\n [0]\n [0]\n [0]\n [0]\n [0]\n [1]\n [1]\n [0]\n [0]\n [0]\n [0]\n [1]\n [1]\n [0]\n [0]\n [1]\n [1]\n [1]\n [0]\n [0]\n [0]\n [0]\n [0]\n [1]\n [0]\n [0]\n [0]\n [0]\n [1]\n [1]\n [1]\n [0]\n [1]\n [0]\n [0]\n [1]\n [0]\n [1]\n [0]\n [0]\n [1]\n [1]\n [1]\n [0]\n [1]\n [0]\n [0]\n [0]\n [0]\n [0]\n [1]\n [0]\n [0]\n [0]\n [0]\n [0]\n [1]\n [0]\n [0]\n [0]\n [0]\n [0]\n [0]\n [0]\n [0]\n [1]\n [0]\n [0]\n [1]\n [0]\n [0]\n [1]\n [0]\n [1]\n [0]\n [1]\n [1]\n [0]\n [1]\n [0]\n [0]\n [0]\n [0]\n [1]\n [0]\n [0]\n [0]\n [0]\n [1]\n [0]\n [0]\n [1]\n [1]\n [1]\n [0]\n [1]\n [0]\n [1]\n [0]\n [1]\n [0]\n [0]\n [1]\n [0]\n [0]\n [0]\n [1]\n [1]\n [0]\n [0]\n [1]\n [0]\n [0]\n [0]\n [0]\n [1]\n [0]\n [0]\n [0]\n [0]\n [1]\n [0]\n [0]\n [1]\n [1]\n [0]\n [1]\n [1]\n [0]\n [1]\n [0]\n [1]\n [1]\n [1]\n [0]\n [0]\n [1]\n [0]\n [0]\n [0]\n [0]\n [1]\n [1]\n [0]\n [1]\n [0]\n [0]\n [0]\n [1]\n [0]\n [0]\n [1]\n [0]\n [1]\n [0]\n [1]\n [0]\n [0]\n [1]\n [1]\n [0]\n [1]\n [0]\n [1]\n [0]\n [0]\n [1]\n [0]\n [0]\n [1]\n [0]\n [0]\n [1]\n [0]\n [0]\n [1]\n [1]\n [1]\n [0]\n [1]\n [0]\n [0]\n [0]\n [0]\n [0]\n [0]\n [1]\n [0]\n [1]\n [0]\n [1]\n [0]\n [0]\n [0]\n [1]\n [1]\n [0]\n [1]\n [0]\n [1]\n [0]\n [1]\n [0]\n [1]\n [0]\n [1]\n [0]\n [1]\n [0]\n [0]\n [1]\n [1]\n [1]\n [0]\n [0]\n [1]\n [1]\n [1]\n [0]\n [1]\n [0]\n [1]\n [0]\n [0]\n [1]\n [0]\n [1]\n [0]\n [0]\n [1]\n [0]\n [0]\n [1]\n [0]\n [0]\n [1]\n [0]\n [0]\n [0]\n [1]\n [1]\n [0]\n [0]\n [1]\n [0]\n [0]\n [1]\n [0]\n [0]\n [0]\n [0]\n [1]\n [0]\n [0]]\n",
          "name": "stdout"
        }
      ]
    },
    {
      "metadata": {
        "trusted": true
      },
      "cell_type": "code",
      "source": "np.count_nonzero(classes == 0)",
      "execution_count": 65,
      "outputs": [
        {
          "output_type": "execute_result",
          "execution_count": 65,
          "data": {
            "text/plain": "360"
          },
          "metadata": {}
        }
      ]
    },
    {
      "metadata": {
        "trusted": true
      },
      "cell_type": "code",
      "source": "np.count_nonzero(classes == 1)",
      "execution_count": 66,
      "outputs": [
        {
          "output_type": "execute_result",
          "execution_count": 66,
          "data": {
            "text/plain": "219"
          },
          "metadata": {}
        }
      ]
    },
    {
      "metadata": {
        "trusted": true
      },
      "cell_type": "code",
      "source": "images = []\nfolder_path = 'test/pneumonia'\nfor img in os.listdir(folder_path):\n    img = os.path.join(folder_path, img)\n    img = image.load_img(img, target_size=(150, 150))\n    img = image.img_to_array(img)\n    img = np.expand_dims(img, axis=0)\n    images.append(img)\n\n# stack up images list to pass for prediction\nimages = np.vstack(images)\nclasses = model.predict_classes(images, batch_size=10)\nprint(classes)\n",
      "execution_count": 47,
      "outputs": []
    },
    {
      "metadata": {
        "trusted": true
      },
      "cell_type": "code",
      "source": "np.count_nonzero(classes == 0)",
      "execution_count": 48,
      "outputs": [
        {
          "output_type": "stream",
          "text": "[[1]]\n",
          "name": "stdout"
        }
      ]
    },
    {
      "metadata": {
        "trusted": true
      },
      "cell_type": "code",
      "source": "np.count_nonzero(classes == 1)",
      "execution_count": null,
      "outputs": []
    }
  ],
  "metadata": {
    "kernelspec": {
      "name": "python36",
      "display_name": "Python 3.6",
      "language": "python"
    },
    "language_info": {
      "mimetype": "text/x-python",
      "nbconvert_exporter": "python",
      "name": "python",
      "pygments_lexer": "ipython3",
      "version": "3.6.6",
      "file_extension": ".py",
      "codemirror_mode": {
        "version": 3,
        "name": "ipython"
      }
    }
  },
  "nbformat": 4,
  "nbformat_minor": 2
}