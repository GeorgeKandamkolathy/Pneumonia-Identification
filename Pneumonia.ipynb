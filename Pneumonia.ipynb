{
  "cells": [
    {
      "metadata": {
        "trusted": true
      },
      "cell_type": "code",
      "source": "!pip install opencv-python",
      "execution_count": 3,
      "outputs": [
        {
          "output_type": "stream",
          "text": "Collecting opencv-python\n\u001b[?25l  Downloading https://files.pythonhosted.org/packages/72/c2/e9cf54ae5b1102020ef895866a67cb2e1aef72f16dd1fde5b5fb1495ad9c/opencv_python-4.2.0.34-cp36-cp36m-manylinux1_x86_64.whl (28.2MB)\n\u001b[K     |████████████████████████████████| 28.2MB 24kB/s  eta 0:00:01     |███████████████▌                | 13.6MB 4.8MB/s eta 0:00:03     |██████████████████▊             | 16.4MB 3.9MB/s eta 0:00:04\n\u001b[?25hRequirement already satisfied: numpy>=1.11.3 in /home/nbuser/anaconda3_501/lib/python3.6/site-packages (from opencv-python) (1.16.2)\nInstalling collected packages: opencv-python\nSuccessfully installed opencv-python-4.2.0.34\n\u001b[33mWARNING: You are using pip version 19.3.1; however, version 20.1 is available.\nYou should consider upgrading via the 'pip install --upgrade pip' command.\u001b[0m\n",
          "name": "stdout"
        }
      ]
    },
    {
      "metadata": {
        "trusted": true
      },
      "cell_type": "code",
      "source": "from keras import backend as K\nfrom keras.preprocessing import image\nfrom keras.preprocessing.image import ImageDataGenerator\nfrom keras.models import Sequential \nfrom keras.layers import Conv2D, MaxPooling2D, Activation, Dropout, Flatten, Dense\nfrom keras.callbacks import History\nimport matplotlib.pyplot as plt\nimport numpy as np\nimport pandas as pd\nimport os\nimport cv2",
      "execution_count": 16,
      "outputs": []
    },
    {
      "metadata": {
        "trusted": true
      },
      "cell_type": "code",
      "source": "#Image Preproccessing \n\nimg_width, img_height = 400, 400\n\ntrain_dir = 'train'\nvalid_dir = 'validation'\ntrain_samples = 1753\nvalid_samples = 1132\nepochs = 5\nbatches = 20",
      "execution_count": 17,
      "outputs": []
    },
    {
      "metadata": {
        "trusted": true
      },
      "cell_type": "code",
      "source": "if K.image_data_format() == 'channels_first':\n    input_shape = (3, img_width, img_height)\nelse:\n    input_shape = (img_width, img_height, 3)\n\nmodel = Sequential()\n\nmodel.add(Conv2D(32,(3,3), input_shape = input_shape))\nmodel.add(Activation('relu'))\nmodel.add(MaxPooling2D(pool_size=(2,2)))\n\nmodel.add(Flatten())\nmodel.add(Dropout(0.5))\nmodel.add(Dense(1))\nmodel.add(Activation('sigmoid'))\n\nmodel.compile(loss= 'binary_crossentropy',\n              optimizer = 'rmsprop',\n              metrics= ['accuracy']\n)",
      "execution_count": 18,
      "outputs": []
    },
    {
      "metadata": {
        "trusted": true
      },
      "cell_type": "code",
      "source": "# this is the augmentation configuration we will use for training\ntrain_datagen = ImageDataGenerator(\n    rescale=1. / 255,\n    horizontal_flip=True)\n\n# this is the augmentation configuration we will use for testing:\n# only rescaling\ntest_datagen = ImageDataGenerator(rescale=1. / 255)\n\ntrain_generator = train_datagen.flow_from_directory(\n    train_dir,\n    target_size=(img_width, img_height),\n    batch_size=batches,\n    class_mode='binary')\n\nvalid_generator = test_datagen.flow_from_directory(\n    valid_dir,\n    target_size=(img_width, img_height),\n    batch_size=batches,\n    class_mode='binary')",
      "execution_count": 19,
      "outputs": [
        {
          "output_type": "stream",
          "text": "Found 1753 images belonging to 2 classes.\nFound 1132 images belonging to 2 classes.\n",
          "name": "stdout"
        }
      ]
    },
    {
      "metadata": {
        "trusted": true
      },
      "cell_type": "code",
      "source": "model.fit_generator(\n    train_generator,\n    steps_per_epoch= train_samples // batches,\n    epochs=epochs,\n    validation_data= valid_generator,\n    validation_steps= valid_samples // batches\n)",
      "execution_count": 20,
      "outputs": [
        {
          "output_type": "stream",
          "text": "Epoch 1/5\n87/87 [==============================] - 1070s 12s/step - loss: 0.4056 - accuracy: 0.8142 - val_loss: 0.2773 - val_accuracy: 0.7902\nEpoch 2/5\n87/87 [==============================] - 1012s 12s/step - loss: 0.1578 - accuracy: 0.9368 - val_loss: 0.3005 - val_accuracy: 0.9245\nEpoch 3/5\n87/87 [==============================] - 947s 11s/step - loss: 0.1115 - accuracy: 0.9519 - val_loss: 0.6263 - val_accuracy: 0.9002\nEpoch 4/5\n87/87 [==============================] - 962s 11s/step - loss: 0.0865 - accuracy: 0.9688 - val_loss: 0.0022 - val_accuracy: 0.8579\nEpoch 5/5\n87/87 [==============================] - 1016s 12s/step - loss: 0.0783 - accuracy: 0.9746 - val_loss: 0.1904 - val_accuracy: 0.9415\n",
          "name": "stdout"
        },
        {
          "output_type": "execute_result",
          "execution_count": 20,
          "data": {
            "text/plain": "<keras.callbacks.callbacks.History at 0x7fdebeee9518>"
          },
          "metadata": {}
        }
      ]
    },
    {
      "metadata": {
        "trusted": true
      },
      "cell_type": "code",
      "source": "images = []\nfolder_path = 'validation/normal'\nfor img in os.listdir(folder_path):\n    img = os.path.join(folder_path, img)\n    img = image.load_img(img, target_size=(400, 400))\n    img = image.img_to_array(img)\n    img = np.expand_dims(img, axis=0)\n    images.append(img)\n\n# stack up images list to pass for prediction\nimages = np.vstack(images)\nclasses = model.predict_classes(images, batch_size=20)\nprint(classes)",
      "execution_count": 27,
      "outputs": [
        {
          "output_type": "stream",
          "text": "[[0]\n [0]\n [0]\n [0]\n [0]\n [1]\n [0]\n [0]\n [0]\n [0]\n [0]\n [0]\n [0]\n [0]\n [0]\n [0]\n [0]\n [0]\n [0]\n [0]\n [0]\n [0]\n [0]\n [0]\n [0]\n [0]\n [0]\n [0]\n [0]\n [0]\n [0]\n [0]\n [0]\n [0]\n [0]\n [0]\n [0]\n [0]\n [0]\n [0]\n [0]\n [1]\n [1]\n [0]\n [1]\n [0]\n [0]\n [0]\n [0]\n [0]\n [0]\n [0]\n [0]\n [0]\n [1]\n [0]\n [0]\n [0]\n [0]\n [0]\n [0]\n [0]\n [0]\n [0]\n [0]\n [0]\n [0]\n [0]\n [0]\n [0]\n [0]\n [0]\n [0]\n [0]\n [0]\n [0]\n [0]\n [0]\n [0]\n [0]\n [0]\n [0]\n [0]\n [0]\n [0]\n [1]\n [0]\n [0]\n [0]\n [0]\n [0]\n [0]\n [0]\n [0]\n [0]\n [0]\n [0]\n [0]\n [0]\n [0]\n [1]\n [0]\n [0]\n [0]\n [0]\n [0]\n [0]\n [0]\n [0]\n [1]\n [0]\n [0]\n [0]\n [1]\n [0]\n [0]\n [1]\n [0]\n [0]\n [0]\n [0]\n [0]\n [1]\n [1]\n [0]\n [0]\n [0]\n [0]\n [1]\n [1]\n [0]\n [0]\n [1]\n [0]\n [0]\n [0]\n [0]\n [0]\n [0]\n [0]\n [0]\n [0]\n [0]\n [0]\n [0]\n [0]\n [0]\n [0]\n [0]\n [0]\n [0]\n [0]\n [0]\n [1]\n [1]\n [0]\n [0]\n [0]\n [0]\n [0]\n [0]\n [0]\n [0]\n [0]\n [0]\n [0]\n [0]\n [0]\n [0]\n [0]\n [0]\n [0]\n [0]\n [0]\n [0]\n [0]\n [0]\n [0]\n [0]\n [0]\n [0]\n [0]\n [0]\n [0]\n [0]\n [0]\n [0]\n [0]\n [0]\n [0]\n [0]\n [0]\n [0]\n [0]\n [0]\n [0]\n [0]\n [0]\n [0]\n [0]\n [0]\n [0]\n [0]\n [0]\n [0]\n [0]\n [0]\n [0]\n [0]\n [0]\n [0]\n [0]\n [0]\n [0]\n [0]\n [0]\n [0]\n [0]\n [0]\n [0]\n [0]\n [0]\n [0]\n [0]\n [0]\n [1]\n [0]\n [0]\n [0]\n [0]\n [1]\n [0]\n [0]\n [0]\n [0]\n [0]\n [0]\n [0]\n [1]\n [0]\n [0]\n [0]\n [0]\n [0]\n [0]\n [0]\n [1]\n [1]\n [1]\n [0]\n [1]\n [0]\n [0]\n [1]\n [0]\n [0]\n [0]\n [0]\n [0]\n [0]\n [0]\n [0]\n [0]\n [0]\n [0]\n [0]\n [0]\n [0]\n [0]\n [0]\n [0]\n [0]\n [0]\n [0]\n [0]\n [0]\n [0]\n [0]\n [0]\n [0]\n [0]\n [0]\n [1]\n [0]\n [1]\n [0]\n [0]\n [0]\n [0]\n [0]\n [0]\n [0]\n [0]\n [0]\n [0]\n [0]\n [0]\n [0]\n [0]\n [0]\n [1]\n [0]\n [0]\n [0]\n [0]\n [0]\n [0]\n [0]\n [0]\n [0]\n [0]\n [0]\n [0]\n [0]\n [0]\n [0]\n [0]\n [0]\n [0]\n [1]\n [0]\n [0]\n [0]\n [1]\n [1]\n [0]\n [0]\n [0]\n [0]\n [0]\n [0]\n [0]\n [0]\n [0]\n [0]\n [0]\n [0]\n [0]\n [0]\n [1]\n [0]\n [0]\n [0]\n [0]\n [1]\n [0]\n [1]\n [0]\n [0]\n [0]\n [0]\n [0]\n [0]\n [0]\n [0]\n [1]\n [0]\n [0]\n [1]\n [0]\n [0]\n [0]\n [0]\n [0]\n [0]\n [0]\n [1]\n [0]\n [0]\n [0]\n [1]\n [0]\n [0]\n [0]\n [0]\n [0]\n [0]\n [0]\n [0]\n [0]\n [0]\n [0]\n [0]\n [0]\n [0]\n [0]\n [1]\n [0]\n [0]\n [0]\n [0]\n [0]\n [0]\n [0]\n [0]\n [1]\n [0]\n [0]\n [0]\n [0]\n [0]\n [0]\n [0]\n [0]\n [0]\n [0]\n [0]\n [0]\n [0]\n [0]\n [0]\n [0]\n [0]\n [0]\n [0]\n [0]\n [0]\n [1]\n [1]\n [0]\n [0]\n [1]\n [0]\n [0]\n [0]\n [1]\n [0]\n [0]\n [0]\n [0]\n [1]\n [0]\n [1]\n [0]\n [0]\n [0]\n [1]\n [0]\n [0]\n [0]\n [0]\n [1]\n [0]\n [0]\n [0]\n [0]\n [0]\n [0]\n [0]\n [0]\n [0]\n [0]\n [0]\n [0]\n [0]\n [0]\n [0]\n [1]\n [1]\n [1]\n [0]\n [0]\n [0]\n [1]\n [0]\n [0]\n [0]\n [1]\n [0]\n [0]\n [0]\n [0]\n [0]\n [0]\n [0]\n [0]\n [0]\n [0]\n [0]\n [0]\n [1]\n [0]\n [0]\n [1]\n [0]\n [0]\n [0]\n [0]\n [0]\n [0]\n [0]\n [0]\n [0]\n [0]\n [0]\n [0]\n [0]\n [0]\n [0]\n [0]\n [0]\n [0]\n [0]\n [0]\n [0]\n [0]\n [0]\n [0]\n [0]\n [0]\n [0]\n [0]\n [0]\n [0]\n [0]\n [0]\n [0]\n [0]\n [0]\n [0]\n [0]\n [0]\n [0]\n [0]\n [0]\n [0]\n [0]\n [0]\n [0]\n [0]\n [1]\n [0]\n [0]\n [0]\n [0]\n [0]\n [0]\n [0]\n [0]\n [0]\n [0]\n [0]\n [0]\n [0]\n [0]\n [0]\n [1]\n [0]\n [1]\n [0]\n [1]\n [1]\n [0]\n [0]\n [0]\n [0]\n [1]\n [0]\n [1]\n [0]\n [0]\n [0]\n [0]\n [0]\n [0]\n [0]\n [0]\n [1]\n [0]\n [0]\n [0]\n [0]\n [0]\n [0]\n [0]\n [0]\n [0]\n [1]\n [0]]\n",
          "name": "stdout"
        }
      ]
    },
    {
      "metadata": {
        "trusted": true
      },
      "cell_type": "code",
      "source": "np.count_nonzero(classes == 0)",
      "execution_count": 28,
      "outputs": [
        {
          "output_type": "execute_result",
          "execution_count": 28,
          "data": {
            "text/plain": "515"
          },
          "metadata": {}
        }
      ]
    },
    {
      "metadata": {
        "trusted": true
      },
      "cell_type": "code",
      "source": "np.count_nonzero(classes == 1)",
      "execution_count": 29,
      "outputs": [
        {
          "output_type": "execute_result",
          "execution_count": 29,
          "data": {
            "text/plain": "64"
          },
          "metadata": {}
        }
      ]
    },
    {
      "metadata": {
        "trusted": true
      },
      "cell_type": "code",
      "source": "",
      "execution_count": null,
      "outputs": []
    },
    {
      "metadata": {
        "trusted": true
      },
      "cell_type": "code",
      "source": "",
      "execution_count": null,
      "outputs": []
    }
  ],
  "metadata": {
    "kernelspec": {
      "name": "python36",
      "display_name": "Python 3.6",
      "language": "python"
    }
  },
  "nbformat": 4,
  "nbformat_minor": 2
}